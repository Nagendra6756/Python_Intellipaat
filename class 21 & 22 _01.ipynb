{
 "cells": [
  {
   "cell_type": "code",
   "execution_count": 1,
   "metadata": {},
   "outputs": [],
   "source": [
    "#21/01/23"
   ]
  },
  {
   "cell_type": "code",
   "execution_count": 2,
   "metadata": {},
   "outputs": [
    {
     "name": "stdout",
     "output_type": "stream",
     "text": [
      "Enter usernameRohit\n",
      "Enter password1234\n",
      "Logged in\n"
     ]
    }
   ],
   "source": [
    "#Procedural programming\n",
    "username=input('Enter username')\n",
    "password=input('Enter password')\n",
    "#API\n",
    "original_username='Rohit'\n",
    "original_password='1234'\n",
    "#Login\n",
    "if(username==original_username and password==original_password):\n",
    "    print('Logged in')\n",
    "else:\n",
    "    print('Invalid username')"
   ]
  },
  {
   "cell_type": "code",
   "execution_count": 3,
   "metadata": {},
   "outputs": [],
   "source": [
    "#Functions can be used to avoid repetetative code"
   ]
  },
  {
   "cell_type": "code",
   "execution_count": 7,
   "metadata": {},
   "outputs": [
    {
     "name": "stdout",
     "output_type": "stream",
     "text": [
      "Logged in\n",
      "Enter usernamenag\n",
      "Enter password1234\n",
      "Enter usernameRohit\n",
      "Enter password1234\n"
     ]
    }
   ],
   "source": [
    "#Functional programming\n",
    "def val(username,password):\n",
    "    original_username='Rohit'\n",
    "    original_password='1234'\n",
    "#login \n",
    "if(username==original_username and password==original_password):\n",
    "    print('Logged in')\n",
    "else:\n",
    "    print('Invalid username')\n",
    "    \n",
    "def get_user_input():\n",
    "    username=input('Enter username')\n",
    "    password=input('Enter password')\n",
    "    val(username,password)\n",
    "\n",
    "for i in range(2):\n",
    "     get_user_input()"
   ]
  },
  {
   "cell_type": "code",
   "execution_count": 8,
   "metadata": {},
   "outputs": [
    {
     "name": "stdout",
     "output_type": "stream",
     "text": [
      "70000\n"
     ]
    }
   ],
   "source": [
    "#Shopping cart\n",
    "item='iphone'\n",
    "item_price=70000\n",
    "item_quantity=1\n",
    "item_total_price=item_price*item_quantity\n",
    "print(item_total_price)"
   ]
  },
  {
   "cell_type": "code",
   "execution_count": 1,
   "metadata": {},
   "outputs": [],
   "source": [
    "#oops--Object oriented programming\n",
    "#class-->collection of properties and methods\n",
    "#object-->rel time entity on the world\n",
    "#properties or attributes are nothing but variables inside a class\n",
    "#methods or behaviours-functions inside a class are called methods or behaviours\n",
    "\n",
    "class Human:\n",
    "    name='vasanth'\n",
    "    age=30\n",
    "    gender='male'\n",
    "    \n",
    "    def eat():\n",
    "        print('eating')\n",
    "        \n",
    "    def talk():\n",
    "        print('talking')"
   ]
  },
  {
   "cell_type": "code",
   "execution_count": 16,
   "metadata": {},
   "outputs": [
    {
     "name": "stdout",
     "output_type": "stream",
     "text": [
      "Iphone 14 70000\n"
     ]
    }
   ],
   "source": [
    "#Shopping cart\n",
    "class Item:\n",
    "    phone=Item()\n",
    "    phone.name='Iphone 14'\n",
    "    phone.price=70000\n",
    "    phone.quantity=1\n",
    "     \n",
    "    def total_price(price,quantity):\n",
    "        return price*quantity\n",
    "\n",
    "print(phone.name,phone.price)"
   ]
  },
  {
   "cell_type": "code",
   "execution_count": 3,
   "metadata": {},
   "outputs": [
    {
     "name": "stdout",
     "output_type": "stream",
     "text": [
      "70000\n",
      "{'name': 'Iphone 14', 'price': 70000, 'quantity': 1}\n"
     ]
    }
   ],
   "source": [
    "#Shopping cart\n",
    "class Item:     \n",
    "    def total_price1(self,price,quantity):\n",
    "        return price*quantity\n",
    "phone=Item()\n",
    "phone.name='Iphone 14'\n",
    "phone.price=70000\n",
    "phone.quantity=1\n",
    "#whenevr i call a method-->calling object is passed as first parameter\n",
    "print(phone.total_price1(phone.price,phone.quantity))\n",
    "\n",
    "print(phone.__dict__)"
   ]
  },
  {
   "cell_type": "code",
   "execution_count": 26,
   "metadata": {},
   "outputs": [
    {
     "name": "stdout",
     "output_type": "stream",
     "text": [
      "calling constructor <__main__.item object at 0x000002E99AE1D820>\n",
      "<__main__.item object at 0x000002E99AE1D820>\n"
     ]
    }
   ],
   "source": [
    "class item:\n",
    "    #constructor:place where memory is allocated\n",
    "    def __init__(self):\n",
    "        print('calling constructor',self)\n",
    "    def total_price(self):\n",
    "        return self.price * self.quantity\n",
    "phone=item()\n",
    "print(phone)\n"
   ]
  },
  {
   "cell_type": "code",
   "execution_count": 36,
   "metadata": {},
   "outputs": [
    {
     "name": "stdout",
     "output_type": "stream",
     "text": [
      "210000\n"
     ]
    }
   ],
   "source": [
    "class item:\n",
    "    def __init__(self,name,price,quantity):\n",
    "        self.name=name\n",
    "        self.price=price\n",
    "        self.quantity=quantity\n",
    "    def total_price(self):\n",
    "        return self.price * self.quantity\n",
    "phone=item('iphone14',70000,3)\n",
    "print(phone.total_price())"
   ]
  },
  {
   "cell_type": "markdown",
   "metadata": {},
   "source": [
    "# 22/1/23"
   ]
  },
  {
   "cell_type": "code",
   "execution_count": 3,
   "metadata": {},
   "outputs": [
    {
     "name": "stdout",
     "output_type": "stream",
     "text": [
      "{'name': 'iphone14', 'price': 70000, 'quantity': 3, 'is_backcase': False}\n"
     ]
    }
   ],
   "source": [
    "class item:\n",
    "    def __init__(self,name,price,quantity,is_backcase=False):\n",
    "        self.name=name\n",
    "        self.price=price\n",
    "        self.quantity=quantity\n",
    "        self.is_backcase=is_backcase\n",
    "    def total_price(self):\n",
    "        return self.price * self.quantity\n",
    "phone=item('iphone14',70000,3)\n",
    "print(phone.__dict__)\n"
   ]
  },
  {
   "cell_type": "code",
   "execution_count": 13,
   "metadata": {},
   "outputs": [
    {
     "name": "stdout",
     "output_type": "stream",
     "text": [
      "applied discount\n",
      "168000.0\n"
     ]
    }
   ],
   "source": [
    "class item:\n",
    "    discount=0.2\n",
    "    def __init__(self,name,price,quantity):\n",
    "        self.name=name\n",
    "        self.price=price\n",
    "        self.quantity=quantity\n",
    "    \n",
    "    def total_price(self):\n",
    "        return self.price * self.quantity\n",
    "    def apply_discount(self):\n",
    "        self.price=self.price -(self.price* item.discount)\n",
    "        print('applied discount')\n",
    "phone=item('iphone14',70000,3)\n",
    "phone.name='Iphone 14 pro'\n",
    "phone.apply_discount()\n",
    "print(phone.total_price())"
   ]
  },
  {
   "cell_type": "code",
   "execution_count": 15,
   "metadata": {},
   "outputs": [],
   "source": [
    "#if self or object properties are not available, \n",
    "#self is going to take class property"
   ]
  },
  {
   "cell_type": "code",
   "execution_count": 21,
   "metadata": {},
   "outputs": [
    {
     "ename": "SyntaxError",
     "evalue": "invalid syntax (<ipython-input-21-768103e08c26>, line 11)",
     "output_type": "error",
     "traceback": [
      "\u001b[1;36m  File \u001b[1;32m\"<ipython-input-21-768103e08c26>\"\u001b[1;36m, line \u001b[1;32m11\u001b[0m\n\u001b[1;33m    if(ATM.original_username==self.username and ATM.original_password==self.password)\u001b[0m\n\u001b[1;37m                                                                                     ^\u001b[0m\n\u001b[1;31mSyntaxError\u001b[0m\u001b[1;31m:\u001b[0m invalid syntax\n"
     ]
    }
   ],
   "source": [
    "#ATM\n",
    "class ATM:\n",
    "    original_username='Rohit'\n",
    "    original_password='1234'\n",
    "    \n",
    "    def __init__(self,username,password):\n",
    "        self.username=username\n",
    "        self.password=password\n",
    "        \n",
    "    def validate(self):\n",
    "        if(ATM.original_username==self.username and ATM.original_password==self.password)\n",
    "            return True\n",
    "        return False\n",
    "    \n",
    "aman=ATM('aman','5678')\n",
    "print(ATM.original_username,ATM.original_password)    "
   ]
  },
  {
   "cell_type": "code",
   "execution_count": null,
   "metadata": {},
   "outputs": [],
   "source": [
    "#4 pillars of oops\n",
    "#1.Encapsulation\n",
    "#2.Inheritance\n",
    "#3.polymorphism\n",
    "#4.Abstraction"
   ]
  },
  {
   "cell_type": "code",
   "execution_count": null,
   "metadata": {},
   "outputs": [],
   "source": []
  },
  {
   "cell_type": "code",
   "execution_count": null,
   "metadata": {},
   "outputs": [],
   "source": []
  },
  {
   "cell_type": "code",
   "execution_count": 24,
   "metadata": {},
   "outputs": [
    {
     "name": "stdout",
     "output_type": "stream",
     "text": [
      "{'house': 'own house', 'bike': 'Honda Shine', 'car': 'mercedez'}\n",
      "{'house': 'own house', 'bike': 'Honda Shine'}\n"
     ]
    }
   ],
   "source": [
    "#Multi-level inheritance\n",
    "class grandparent:\n",
    "    def __init__(self):\n",
    "        self.house='own house'\n",
    "class parent(grandparent):\n",
    "    def __init__(self):\n",
    "        super().__init__()\n",
    "        self.bike='Honda Shine'\n",
    "class child(parent):\n",
    "    def __init__(self):\n",
    "        super().__init__()\n",
    "        self.car='mercedez'\n",
    "\n",
    "gp=grandparent()\n",
    "parent=parent()\n",
    "child=child()\n",
    "print(child.__dict__)\n",
    "print(parent.__dict__)\n"
   ]
  },
  {
   "cell_type": "code",
   "execution_count": 29,
   "metadata": {},
   "outputs": [
    {
     "name": "stdout",
     "output_type": "stream",
     "text": [
      "{'name': 'mother', 'food': 'milk'}\n"
     ]
    }
   ],
   "source": [
    "#multiple inheritance\n",
    "class father:\n",
    "    def __init__(self):\n",
    "        self.name='father'\n",
    "class mother:\n",
    "    def __init__(self):\n",
    "        self.name='mother'\n",
    "        self.food='milk'\n",
    "class child(father,mother):\n",
    "    def __init__(self):\n",
    "        #super().__init__() -will always call firrst parent\n",
    "        father.__init__(self)\n",
    "        mother.__init__(self)\n",
    "child=child()\n",
    "print(child.__dict__)"
   ]
  },
  {
   "cell_type": "code",
   "execution_count": null,
   "metadata": {},
   "outputs": [],
   "source": []
  },
  {
   "cell_type": "code",
   "execution_count": null,
   "metadata": {},
   "outputs": [],
   "source": []
  },
  {
   "cell_type": "code",
   "execution_count": null,
   "metadata": {},
   "outputs": [],
   "source": []
  },
  {
   "cell_type": "code",
   "execution_count": null,
   "metadata": {},
   "outputs": [],
   "source": []
  },
  {
   "cell_type": "code",
   "execution_count": null,
   "metadata": {},
   "outputs": [],
   "source": []
  },
  {
   "cell_type": "code",
   "execution_count": null,
   "metadata": {},
   "outputs": [],
   "source": []
  },
  {
   "cell_type": "code",
   "execution_count": null,
   "metadata": {},
   "outputs": [],
   "source": []
  },
  {
   "cell_type": "code",
   "execution_count": null,
   "metadata": {},
   "outputs": [],
   "source": []
  },
  {
   "cell_type": "code",
   "execution_count": null,
   "metadata": {},
   "outputs": [],
   "source": []
  }
 ],
 "metadata": {
  "kernelspec": {
   "display_name": "Python 3",
   "language": "python",
   "name": "python3"
  },
  "language_info": {
   "codemirror_mode": {
    "name": "ipython",
    "version": 3
   },
   "file_extension": ".py",
   "mimetype": "text/x-python",
   "name": "python",
   "nbconvert_exporter": "python",
   "pygments_lexer": "ipython3",
   "version": "3.8.5"
  }
 },
 "nbformat": 4,
 "nbformat_minor": 4
}
